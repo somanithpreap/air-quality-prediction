{
  "nbformat": 4,
  "nbformat_minor": 0,
  "metadata": {
    "colab": {
      "provenance": []
    },
    "kernelspec": {
      "name": "python3",
      "display_name": "Python 3"
    },
    "language_info": {
      "name": "python"
    }
  },
  "cells": [
    {
      "cell_type": "code",
      "execution_count": 501,
      "metadata": {
        "id": "pO0Xq0Y3CdLx",
        "colab": {
          "base_uri": "https://localhost:8080/",
          "height": 215
        },
        "outputId": "9b495043-d992-4d1a-cb49-5f1ef3b1376b"
      },
      "outputs": [
        {
          "output_type": "error",
          "ename": "FileNotFoundError",
          "evalue": "[Errno 2] No such file or directory: 'data'",
          "traceback": [
            "\u001b[0;31m---------------------------------------------------------------------------\u001b[0m",
            "\u001b[0;31mFileNotFoundError\u001b[0m                         Traceback (most recent call last)",
            "\u001b[0;32m<ipython-input-501-ac68b51070a1>\u001b[0m in \u001b[0;36m<cell line: 0>\u001b[0;34m()\u001b[0m\n\u001b[1;32m     64\u001b[0m \u001b[0mbase_dir\u001b[0m \u001b[0;34m=\u001b[0m \u001b[0;34m\"data\"\u001b[0m\u001b[0;34m\u001b[0m\u001b[0;34m\u001b[0m\u001b[0m\n\u001b[1;32m     65\u001b[0m \u001b[0;34m\u001b[0m\u001b[0m\n\u001b[0;32m---> 66\u001b[0;31m \u001b[0;32mfor\u001b[0m \u001b[0myear\u001b[0m \u001b[0;32min\u001b[0m \u001b[0msorted\u001b[0m\u001b[0;34m(\u001b[0m\u001b[0mos\u001b[0m\u001b[0;34m.\u001b[0m\u001b[0mlistdir\u001b[0m\u001b[0;34m(\u001b[0m\u001b[0mbase_dir\u001b[0m\u001b[0;34m)\u001b[0m\u001b[0;34m)\u001b[0m\u001b[0;34m:\u001b[0m\u001b[0;34m\u001b[0m\u001b[0;34m\u001b[0m\u001b[0m\n\u001b[0m\u001b[1;32m     67\u001b[0m     \u001b[0myear_path\u001b[0m \u001b[0;34m=\u001b[0m \u001b[0mos\u001b[0m\u001b[0;34m.\u001b[0m\u001b[0mpath\u001b[0m\u001b[0;34m.\u001b[0m\u001b[0mjoin\u001b[0m\u001b[0;34m(\u001b[0m\u001b[0mbase_dir\u001b[0m\u001b[0;34m,\u001b[0m \u001b[0myear\u001b[0m\u001b[0;34m)\u001b[0m\u001b[0;34m\u001b[0m\u001b[0;34m\u001b[0m\u001b[0m\n\u001b[1;32m     68\u001b[0m     \u001b[0;32mif\u001b[0m \u001b[0mos\u001b[0m\u001b[0;34m.\u001b[0m\u001b[0mpath\u001b[0m\u001b[0;34m.\u001b[0m\u001b[0misdir\u001b[0m\u001b[0;34m(\u001b[0m\u001b[0myear_path\u001b[0m\u001b[0;34m)\u001b[0m\u001b[0;34m:\u001b[0m\u001b[0;34m\u001b[0m\u001b[0;34m\u001b[0m\u001b[0m\n",
            "\u001b[0;31mFileNotFoundError\u001b[0m: [Errno 2] No such file or directory: 'data'"
          ]
        }
      ],
      "source": [
        "# Import the necessary libraries and dataset\n",
        "import os\n",
        "import pandas as pd\n",
        "from functools import reduce\n",
        "\n",
        "# Common merge keys\n",
        "merge_keys = [\"State Code\", \"County Code\", \"Site Num\", \"Date Local\"]\n",
        "\n",
        "# Feature filenames used in each year (must be consistent)\n",
        "feature_files = {\n",
        "    \"PM2.5\": \"pm25.csv\",\n",
        "    \"PM10\": \"pm10.csv\",\n",
        "    \"O3\": \"o3.csv\",\n",
        "    \"SO2\": \"so2.csv\",\n",
        "    \"CO\": \"co.csv\",\n",
        "    \"NO2\": \"no2.csv\",\n",
        "    \"Wind\": \"wind.csv\",\n",
        "    \"Temperature\": \"temp.csv\"\n",
        "}\n",
        "\n",
        "aqi_filename = \"aqi.csv\"\n",
        "\n",
        "# Define dataset loader functions\n",
        "def load_feature_dataset(filepath, feature_name):\n",
        "    df = pd.read_csv(filepath)\n",
        "    df[\"Date Local\"] = pd.to_datetime(df[\"Date Local\"])\n",
        "    df_grouped = df.groupby(merge_keys)[\"Arithmetic Mean\"].mean().reset_index()\n",
        "    return df_grouped.rename(columns={\"Arithmetic Mean\": feature_name})\n",
        "\n",
        "def load_aqi_dataset(filepath):\n",
        "    df = pd.read_csv(filepath)\n",
        "    df = df.rename(columns={\"Date\": \"Date Local\"})\n",
        "    df[\"Date Local\"] = pd.to_datetime(df[\"Date Local\"])\n",
        "    site_split = df[\"Defining Site\"].str.split(\"-\", expand=True)\n",
        "    df[\"State Code\"] = site_split[0].astype(\"int64\")\n",
        "    df[\"County Code\"] = site_split[1].astype(\"int64\")\n",
        "    df[\"Site Num\"] = site_split[2].astype(\"int64\")\n",
        "    df = df[[\"State Code\", \"County Code\", \"Site Num\", \"Date Local\", \"AQI\"]]\n",
        "    return df.groupby(merge_keys)[\"AQI\"].max().reset_index()\n",
        "\n",
        "# Merge a single year\n",
        "def process_year(year_path):\n",
        "    feature_dfs = []\n",
        "    for feature_name, filename in feature_files.items():\n",
        "        path = os.path.join(year_path, filename)\n",
        "        if os.path.exists(path):\n",
        "            feature_dfs.append(load_feature_dataset(path, feature_name))\n",
        "\n",
        "    merged_features = reduce(lambda left, right: pd.merge(left, right, on=merge_keys, how=\"inner\"), feature_dfs)\n",
        "\n",
        "    aqi_path = os.path.join(year_path, aqi_filename)\n",
        "    if os.path.exists(aqi_path):\n",
        "        aqi_df = load_aqi_dataset(aqi_path)\n",
        "        final = pd.merge(merged_features, aqi_df, on=merge_keys, how=\"inner\")\n",
        "        return final\n",
        "    else:\n",
        "        return merged_features  # Skip AQI merge if not available\n",
        "\n",
        "# Combine all years\n",
        "all_data = []\n",
        "base_dir = \"data\"\n",
        "\n",
        "for year in sorted(os.listdir(base_dir)):\n",
        "    year_path = os.path.join(base_dir, year)\n",
        "    if os.path.isdir(year_path):\n",
        "        print(f\"Processing {year}...\")\n",
        "        year_df = process_year(year_path)\n",
        "        if year_df is not None and not year_df.empty:\n",
        "            all_data.append(year_df)\n",
        "\n",
        "# Concatenate all years\n",
        "df = pd.concat(all_data, ignore_index=True)\n",
        "print(\"Final dataset shape:\", df.shape)\n",
        "\n",
        "# Drop duplicate rows and NaN values\n",
        "df = df.drop_duplicates()\n",
        "df = df.dropna()\n",
        "\n",
        "# Drop the unrelated columns to focus on relevant features\n",
        "df = df.drop(['State Code', 'County Code', 'Site Num', 'Date Local'], axis=1)\n",
        "print(df.columns.tolist())\n",
        "\n",
        "# Save to CSV\n",
        "df.to_csv(\"air_quality.csv\", index=False)\n",
        "df.head()"
      ]
    },
    {
      "cell_type": "code",
      "source": [
        "# Use the AQI Value column as target and other columns as features\n",
        "X = df.drop('AQI', axis=1)\n",
        "y = df['AQI']\n",
        "\n",
        "print(X.shape)\n",
        "print(y.shape)\n",
        "\n",
        "# Randomly split 80% of the data for training and 20% for testing\n",
        "from sklearn.model_selection import train_test_split\n",
        "X_train, X_test, y_train, y_test = train_test_split(X, y, test_size=0.2, random_state=42)\n",
        "print(X_train.shape)\n",
        "print(y_train.shape)"
      ],
      "metadata": {
        "id": "iuFd_aMP5qWM"
      },
      "execution_count": null,
      "outputs": []
    },
    {
      "cell_type": "code",
      "source": [
        "# Cross validation for hyperparameter tuning\n",
        "from sklearn.model_selection import RandomizedSearchCV\n",
        "from sklearn.ensemble import RandomForestRegressor\n",
        "from scipy.stats import randint\n",
        "import numpy as np\n",
        "\n",
        "# # Define the parameter grid\n",
        "# param_dist = {\n",
        "#     'n_estimators': randint(100, 500),\n",
        "#     'max_depth': randint(5, 30),\n",
        "#     'min_samples_split': randint(2, 10),\n",
        "#     'min_samples_leaf': randint(1, 10),\n",
        "# }\n",
        "\n",
        "# # Initialize the model\n",
        "# rf = RandomForestRegressor()\n",
        "\n",
        "# # Random search with cross-validation\n",
        "# random_search = RandomizedSearchCV(\n",
        "#     rf,\n",
        "#     param_distributions=param_dist,\n",
        "#     n_iter=50,\n",
        "#     cv=5,\n",
        "#     scoring='neg_mean_squared_error',\n",
        "#     n_jobs=-1,\n",
        "#     verbose=2,\n",
        "#     random_state=42\n",
        "# )\n",
        "\n",
        "# # Fit the model\n",
        "# random_search.fit(X_train, y_train)\n",
        "\n",
        "# # Best parameters\n",
        "# print(\"Best parameters found:\", random_search.best_params_)\n",
        "\n",
        "# # Evaluate\n",
        "# best_model = random_search.best_estimator_\n",
        "# y_pred_test = best_model.predict(X_test)"
      ],
      "metadata": {
        "id": "YruGvvz45xoU"
      },
      "execution_count": null,
      "outputs": []
    },
    {
      "cell_type": "code",
      "source": [
        "# Evaluate the model's performance using RMSE and R2 score\n",
        "from sklearn.metrics import mean_squared_error, r2_score\n",
        "\n",
        "best_model = RandomForestRegressor(n_estimators=364, max_depth=18, min_samples_split=3, min_samples_leaf=2, n_jobs=-1, random_state=42)\n",
        "best_model.fit(X_train, y_train)\n",
        "\n",
        "y_pred_train = best_model.predict(X_train)\n",
        "y_pred_test = best_model.predict(X_test)\n",
        "\n",
        "pd.DataFrame({'Actual': y_test, 'Predicted': y_pred_test}).to_csv("predictions.csv", index=False)\n",
        "\n",
        "print(\"Train RMSE:\", np.sqrt(mean_squared_error(y_train, y_pred_train)))\n",
        "print(\"Test RMSE: \", np.sqrt(mean_squared_error(y_test, y_pred_test)))\n",
        "print(\"Train R2:\", r2_score(y_train, y_pred_train))\n",
        "print(\"Test R2:\", r2_score(y_test, y_pred_test))"
      ],
      "metadata": {
        "colab": {
          "base_uri": "https://localhost:8080/"
        },
        "id": "nhsadG7Z6EYM",
        "outputId": "4e64e9f0-f97c-4c21-9ab2-e19f407d7628"
      },
      "execution_count": 507,
      "outputs": [
        {
          "output_type": "stream",
          "name": "stdout",
          "text": [
            "Train RMSE: 1.1649159707563255\n",
            "Test RMSE:  2.6925690751944544\n",
            "Train R2: 0.9993880923890368\n",
            "Test R2: 0.996700902877441\n"
          ]
        },
        {
          "output_type": "execute_result",
          "data": {
            "text/plain": [
              "['air_quality_prediction_model.pkl']"
            ]
          },
          "metadata": {},
          "execution_count": 507
        }
      ]
    },
    {
      "cell_type": "code",
      "source": [
        "# Export the trained model\n",
        "import joblib\n",
        "joblib.dump(best_model, \"air_quality_prediction_model.pkl\")"
      ],
      "metadata": {
        "id": "HW44LpKP6mFO"
      },
      "execution_count": null,
      "outputs": []
    }
  ]
}
